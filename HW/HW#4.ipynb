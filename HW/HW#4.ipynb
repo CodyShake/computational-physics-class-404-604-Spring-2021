{
 "cells": [
  {
   "cell_type": "markdown",
   "id": "exposed-rebate",
   "metadata": {},
   "source": [
    "Find the solution for  \n",
    "\\begin{eqnarray}\n",
    "x_{1}^2+x_{1}x_{2}=10\\\\\n",
    "x_{2}+3x_{1}x_{2}^2=57\n",
    "\\end{eqnarray}"
   ]
  },
  {
   "cell_type": "markdown",
   "id": "trying-large",
   "metadata": {},
   "source": [
    "From the lecture:"
   ]
  },
  {
   "cell_type": "markdown",
   "id": "brown-highway",
   "metadata": {},
   "source": [
    "\\begin{equation}\n",
    "\\left[ \\begin{array}{c} f_{1}\\\\ f_{2} \\end{array}\\right] + \\begin{bmatrix} \\partial f_{1}/\\partial x_{1} & \\partial f_{1}/\\partial x_{2}  \\\\ \\partial f_{2}/\\partial x_{1} & \\partial f_{2}/\\partial x_{2} \\end{bmatrix}\\left[ \\begin{array}{c} \\Delta x_{1} \\\\ \\Delta x_{2}  \\end{array}\\right] =0 \n",
    "\\end{equation}\n",
    "\n",
    "\\begin{equation}\n",
    " \\begin{bmatrix} a & b \\\\c & d \\end{bmatrix}\\left[ \\begin{array}{c} \\Delta x_{1} \\\\ \\Delta x_{2}  \\end{array}\\right] =-\\left[ \\begin{array}{c} f_{1}\\\\ f_{2} \\end{array}\\right] \n",
    "\\end{equation}"
   ]
  },
  {
   "cell_type": "markdown",
   "id": "former-weekly",
   "metadata": {},
   "source": [
    "The solution is\n",
    "\\begin{eqnarray}\n",
    "\\Delta x_1=\\frac{bf_2-df_1}{ad-bc}\\\\\n",
    "\\Delta x_2=\\frac{cf_1-af_2}{ad-bc}\n",
    "\\end{eqnarray}\n",
    "Reinsterting the partial derivatives,\n",
    "\\begin{equation}\n",
    "\\Delta x_1=\\frac{\\frac{\\partial f_{1}}{\\partial x_{2}}f_2-\\frac{\\partial f_{2}}{\\partial x_{2}}f_1}{\\frac{\\partial f_{1}}{\\partial x_{1}}\\frac{\\partial f_{2}}{\\partial x_{2}}-\\frac{\\partial f_{1}}{\\partial x_{2}}\\frac{\\partial f_{2}}{\\partial x_{1}}}\\\\\n",
    "\\end{equation}\n",
    "\n",
    "\\begin{equation}\n",
    "\\Delta x_2=\\frac{\\frac{\\partial f_{2}}{\\partial x_{1}}f_1-\\frac{\\partial f_{1}}{\\partial x_{1}}f_2}{\\frac{\\partial f_{1}}{\\partial x_{1}}\\frac{\\partial f_{2}}{\\partial x_{2}}-\\frac{\\partial f_{1}}{\\partial x_{2}}\\frac{\\partial f_{2}}{\\partial x_{1}}}\n",
    "\\end{equation}"
   ]
  },
  {
   "cell_type": "markdown",
   "id": "impaired-fields",
   "metadata": {},
   "source": [
    "To save complexity in the program, I analytically derived the derivatives. The results are:\n",
    "\\begin{equation}\n",
    "\\frac{\\partial f_{1}}{\\partial x_{1}}=2x_1+x_2 \n",
    "\\end{equation}\n",
    "\\begin{equation}\n",
    "\\frac{\\partial f_{1}}{\\partial x_{2}}=x_1\n",
    "\\end{equation}\n",
    "\n",
    "\\begin{equation}\n",
    "\\frac{\\partial f_{2}}{\\partial x_{1}}=6x_2^2 \n",
    "\\end{equation}\n",
    "\\begin{equation}\n",
    "\\frac{\\partial f_{2}}{\\partial x_{2}}=1+6x_1x_2\n",
    "\\end{equation}\n"
   ]
  },
  {
   "cell_type": "markdown",
   "id": "existing-knitting",
   "metadata": {},
   "source": [
    "Thus, we have\n",
    "\\begin{equation}\n",
    "\\boxed{\\Delta x_1=\\frac{-3x_1^2x_2^2-6x_1^3x_2+60x_1x_2-x_1^2-57x_1+10}{12x_1^2x_2+3x_1x_2^2+2x_1+x_2}}\n",
    "\\end{equation}\n",
    "\n",
    "\\begin{equation}\n",
    "\\boxed{\\Delta x_2=\\frac{-3x_1^2x_2^2-2x_1x_2-31x_2^2+114x_1+57x_2}{12x_1^2x_2+3x_1x_2^2+2x_1+x_2}}\n",
    "\\end{equation}"
   ]
  },
  {
   "cell_type": "code",
   "execution_count": 47,
   "id": "afraid-puzzle",
   "metadata": {},
   "outputs": [],
   "source": [
    "import matplotlib.pyplot as plt\n",
    "import numpy as np\n",
    "\n",
    "def f1(x1,x2):\n",
    "    return x1*x1+x1*x2-10.\n",
    "\n",
    "def f2(x1,x2):\n",
    "    return x2+3*x1*x2*x2-57.\n",
    "\n",
    "def Fs(x1,x2):   #Here I define the abs value of the difference of the functions to simplify the main program\n",
    "    return abs(x1*x1+x1*x2-10.-x2-3*x1*x2*x2+57.)\n",
    "\n",
    "def dx1(x1,x2):\n",
    "    return (-3*x1*x1*x2*x2-6*x1*x1*x1*x2+60*x1*x2-x1*x1-57*x1+10)/(12*x1*x1*x2+3*x1*x2*x2+2*x1+x2)\n",
    "\n",
    "def dx2(x1,x2):\n",
    "    return (-3*x1*x1*x2*x2-2*x1*x2-31*x2*x2+114*x1+57*x2)/(12*x1*x1*x2+3*x1*x2*x2+2*x1+x2)\n",
    "\n",
    "\n",
    "\n",
    "def NRmethod(x1,x2,dx1,dx2,N,eps,Fs):\n",
    "    i=0\n",
    "    while ((abs(Fs(x1,x2))>eps) and (i<N)):                   #Change 'and' to 'or' to go to max iteration\n",
    "        t1dx1=dx1(x1,x2)                                      #Temp1\n",
    "        t1dx2=dx2(x1,x2)\n",
    "\n",
    "        while (abs(Fs(x1+t1dx1,x2+t1dx2))>abs(Fs(x1,x2))):    #Backtrack if needed\n",
    "            if(abs(Fs(x1,x2+t1dx2))>abs(Fs(x1,x2))):          #\"\" x2\n",
    "                t1dx2=t1dx2/2.\n",
    "            if(abs(Fs(x1+t1dx1,x2))>abs(Fs(x1,x2))):          #\"\" x1\n",
    "                t1dx1=t1dx1/2.\n",
    "\n",
    "        print(\"Iteration #\",i,\": \",x1,\"dx1:\",t1dx1,\"|\",x2,\"dx2:\",t1dx2)\n",
    "        x1 = x1+t1dx1\n",
    "        x2 = x2+t1dx2\n",
    "        i+=1\n",
    "    if(abs(Fs(x1,x2))<eps):\n",
    "        print(\"Root is at\",x1,x2,\" after \",i,\" iterations, with a precision of \",abs(Fs(x1,x2)))\n",
    "    elif(i==N):\n",
    "        print(\"Currently at\",x1,x2,\" ERROR: MAX ITERATIONS REACHED.\")\n",
    "    else:\n",
    "        print(\"You goofed.\")\n",
    "    return x1,x2"
   ]
  },
  {
   "cell_type": "markdown",
   "id": "cultural-valve",
   "metadata": {},
   "source": [
    "Now, lets test the program!"
   ]
  },
  {
   "cell_type": "code",
   "execution_count": 45,
   "id": "biblical-placement",
   "metadata": {},
   "outputs": [
    {
     "name": "stdout",
     "output_type": "stream",
     "text": [
      "Iteration # 0 :  100 dx1: -59.95984680306394 | 100 dx2: -20.020459590808183\n",
      "Iteration # 1 :  40.04015319693606 dx1: -26.6043843869723 | 79.97954040919181 dx2: -13.419359979151912\n",
      "Iteration # 2 :  13.435768809963761 dx1: -10.26837030474986 | 66.5601804300399 dx2: -7.845892711257731\n",
      "Iteration # 3 :  3.1673985052139013 dx1: -2.606416709918294 | 58.714287718782174 dx2: -5.196358783337091\n",
      "Iteration # 4 :  0.5609817952956071 dx1: -0.19336102470734357 | 53.517928935445084 dx2: -17.41956495304617\n",
      "Iteration # 5 :  0.36762077058826353 dx1: 0.1605612134074469 | 36.098363982398915 dx2: -25.35140165577758\n",
      "Iteration # 6 :  0.5281819839957105 dx1: 0.9273792860037747 | 10.746962326621336 dx2: -13.066497178069726\n",
      "Iteration # 7 :  1.4555612699994853 dx1: 7.708985997629293 | -2.31953485144839 dx2: 4.600991668358854\n",
      "Iteration # 8 :  9.164547267628778 dx1: -4.542958904495864 | 2.281456816910464 dx2: -0.034495912056607674\n",
      "Iteration # 9 :  4.621588363132915 dx1: -0.9933394027186199 | 2.2469609048538564 dx2: 0.11723302138001378\n",
      "Iteration # 10 :  3.628248960414295 dx1: -0.6685330829048592 | 2.3641939262338703 dx2: 0.15454106082584357\n",
      "Iteration # 11 :  2.959715877509436 dx1: -0.8457873293421204 | 2.5187349870597138 dx2: 0.3115962962234026\n",
      "Iteration # 12 :  2.1139285481673156 dx1: -0.11347787715469654 | 2.8303312832831162 dx2: 0.16515989952435597\n",
      "Iteration # 13 :  2.000450671012619 dx1: -0.0004518363316190006 | 2.995491182807472 dx2: 0.004511978550307305\n",
      "Iteration # 14 :  1.999998834681 dx1: 1.165318641967682e-06 | 3.0000031613577796 dx2: -3.1613576900330457e-06\n",
      "Root is at 1.999999999999642 3.0000000000000897  after  15  iterations, with a precision of  4.014566457044566e-12\n"
     ]
    }
   ],
   "source": [
    "root =[]\n",
    "\n",
    "N=100\n",
    "eps = 1.e-8\n",
    "\n",
    "root = NRmethod(100,100,dx1,dx2,N,eps,Fs)"
   ]
  },
  {
   "cell_type": "code",
   "execution_count": 46,
   "id": "included-monroe",
   "metadata": {},
   "outputs": [
    {
     "data": {
      "image/png": "[encoded data removed]",
      "text/plain": [
       "<Figure size 432x288 with 1 Axes>"
      ]
     },
     "metadata": {
      "needs_background": "light"
     },
     "output_type": "display_data"
    }
   ],
   "source": [
    "import matplotlib.pyplot as plt\n",
    "import numpy as np\n",
    "\n",
    "\n",
    "x=np.arange(1,4,0.1)\n",
    "\n",
    "y1=(10.-x*x)/x\n",
    "\n",
    "y2=(-1+np.sqrt(1.+4.*3.*x*57))/6./x\n",
    "\n",
    "plt.plot(x,y1)\n",
    "plt.plot(x,y2)\n",
    "plt.show()"
   ]
  },
  {
   "cell_type": "markdown",
   "id": "guided-trustee",
   "metadata": {},
   "source": [
    "My results (x1=2,x2=3) agree with the graph. However, when I start at negative values, my program reaches different roots. Also, when I start to0 far away (like x1=1000 or x2=1000), the program stops running at ~5 iterations even though thats not the maximum iterations. I'm not sure why though."
   ]
  },
  {
   "cell_type": "code",
   "execution_count": null,
   "id": "interpreted-biography",
   "metadata": {},
   "outputs": [],
   "source": []
  }
 ],
 "metadata": {
  "kernelspec": {
   "display_name": "Python 3",
   "language": "python",
   "name": "python3"
  },
  "language_info": {
   "codemirror_mode": {
    "name": "ipython",
    "version": 3
   },
   "file_extension": ".py",
   "mimetype": "text/x-python",
   "name": "python",
   "nbconvert_exporter": "python",
   "pygments_lexer": "ipython3",
   "version": "3.6.9"
  }
 },
 "nbformat": 4,
 "nbformat_minor": 5
}
