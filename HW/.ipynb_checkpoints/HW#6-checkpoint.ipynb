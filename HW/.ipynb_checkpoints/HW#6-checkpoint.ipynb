{
 "cells": [
  {
   "cell_type": "markdown",
   "id": "banned-somewhere",
   "metadata": {},
   "source": [
    "## Part 1:"
   ]
  },
  {
   "cell_type": "markdown",
   "id": "stable-begin",
   "metadata": {},
   "source": [
    "Write a shooting method to calculate the Legendre polynomials with n=5."
   ]
  },
  {
   "cell_type": "markdown",
   "id": "informed-nancy",
   "metadata": {},
   "source": [
    "Thus, $\\boxed{y''=\\frac{1}{1-x^2}[2xy'-5*6y]}$"
   ]
  },
  {
   "cell_type": "markdown",
   "id": "anticipated-bankruptcy",
   "metadata": {},
   "source": [
    "Where $y(0)=0$ and we vary $y'(0)$ using bisection until $y(1)=1$."
   ]
  },
  {
   "cell_type": "code",
   "execution_count": 37,
   "id": "dental-burlington",
   "metadata": {},
   "outputs": [
    {
     "name": "stdout",
     "output_type": "stream",
     "text": [
      "0.9998999999999062 1.00137673895435\n"
     ]
    },
    {
     "data": {
      "image/png": "[encoded data removed]",
      "text/plain": [
       "<Figure size 432x288 with 1 Axes>"
      ]
     },
     "metadata": {
      "needs_background": "light"
     },
     "output_type": "display_data"
    }
   ],
   "source": [
    "import numpy as np\n",
    "import matplotlib.pyplot as plt\n",
    "\n",
    "n=2\n",
    "dy_0=1.875\n",
    "x=0.\n",
    "h=1.e-4\n",
    "r=[0.,dy_0]    #[y, y']\n",
    "\n",
    "def f(x, r):\n",
    "    f=np.zeros(2)\n",
    "    f[0]=r[1]\n",
    "    f[1]=1/(1-x*x)*(2*x*r[1]-30*r[0])\n",
    "    return f\n",
    "\n",
    "def rk4(t,h,r,n):\n",
    "    k1 = np.zeros(n)\n",
    "    k2 = np.zeros(n)\n",
    "    k3 = np.zeros(n)\n",
    "    k4 = np.zeros(n)\n",
    "    k1=h*f(t,r)\n",
    "    k2=h*f(t+0.5*h,r+0.5*k1)\n",
    "    k3=h*f(t+0.5*h,r+0.5*k2)\n",
    "    k4=h*f(t+h,r+k3)\n",
    "    r+=(k1+2*k2+2*k3+k4)/6.\n",
    "    return r\n",
    "\n",
    "xr=[]\n",
    "yr=[]\n",
    "\n",
    "while (1.-x>2*h):                       #Here I end 'x' a bit shorter than 1 because there\n",
    "    xr=np.append(xr,x)                  # is a singularity at x==1.\n",
    "    yr=np.append(yr,r[0])\n",
    "    x+=h\n",
    "    r=rk4(x,h,r,n)\n",
    "print(x,r[0])\n",
    "\n",
    "y_x1=1+xr*0\n",
    "\n",
    "plt.axis('scaled')\n",
    "plt.axes(xlim=[0.,1.1],ylim=[-1.,1.5])\n",
    "plt.plot(xr,yr)\n",
    "plt.plot(xr,y_x1)\n",
    "plt.title('dY=1.875')\n",
    "plt.show()"
   ]
  },
  {
   "cell_type": "code",
   "execution_count": 38,
   "id": "voluntary-courtesy",
   "metadata": {},
   "outputs": [
    {
     "name": "stdout",
     "output_type": "stream",
     "text": [
      "Min End: 0.9998999999999062 0.8011013911634923\n",
      "Max End: 0.9998999999999062 1.335168985272488\n",
      "Bisection # 0 :  0.9998999999999062 1.0681351882179877\n",
      "Bisection # 1 :  0.9998999999999062 0.9346182896907393\n",
      "Bisection # 2 :  0.9998999999999062 1.00137673895435\n",
      "Bisection # 3 :  0.9998999999999062 0.9679975143225582\n",
      "Bisection # 4 :  0.9998999999999062 0.9846871266384465\n",
      "Bisection # 5 :  0.9998999999999062 0.9930319327964118\n",
      "Bisection # 6 :  0.9998999999999062 0.9972043358753854\n",
      "Bisection # 7 :  0.9998999999999062 0.9992905374148868\n",
      "Bisection # 8 :  0.9998999999999062 1.0003336381846208\n",
      "Bisection # 9 :  0.9998999999999062 0.9998120877997583\n",
      "Bisection # 10 :  0.9998999999999062 1.000072862992187\n",
      "Bisection # 11 :  0.9998999999999062 0.999942475395958\n",
      "Bisection # 12 :  0.9998999999999062 1.0000076691940674\n",
      "Bisection # 13 :  0.9998999999999062 0.9999750722950099\n",
      "Bisection # 14 :  0.9998999999999062 0.9999913707445484\n",
      "Bisection # 15 :  0.9998999999999062 0.9999995199692979\n",
      "Bisection # 16 :  0.9998999999999062 1.000003594581699\n",
      "Bisection # 17 :  0.9998999999999062 1.0000015572754866\n",
      "Bisection # 18 :  0.9998999999999062 1.0000005386223976\n",
      "Bisection # 19 :  0.9998999999999062 1.000000029295861\n",
      "Final End: 0.9998999999999062 1.000000029295861\n"
     ]
    },
    {
     "data": {
      "image/png": "[encoded data removed]",
      "text/plain": [
       "<Figure size 432x288 with 1 Axes>"
      ]
     },
     "metadata": {
      "needs_background": "light"
     },
     "output_type": "display_data"
    }
   ],
   "source": [
    "dy_min=1.5\n",
    "dy_max=2.5\n",
    "\n",
    "xr_min=[]\n",
    "yr_min=[]\n",
    "x=0.\n",
    "r=[0.,dy_min]\n",
    "while (1.-x>2*h):                                  #Here I integrate for y'=1.5 and save the date (as shown in the PDF)\n",
    "    xr_min=np.append(xr_min,x)\n",
    "    yr_min=np.append(yr_min,r[0])\n",
    "    x+=h\n",
    "    r=rk4(x,h,r,n)\n",
    "print('Min End:',x,r[0])\n",
    "\n",
    "xr_max=[]\n",
    "yr_max=[]\n",
    "x=0.\n",
    "r=[0.,dy_max]\n",
    "while (1.-x>2*h):                                 #Here I integrate for y'=2.5 and save\n",
    "    xr_max=np.append(xr_max,x)\n",
    "    yr_max=np.append(yr_max,r[0])\n",
    "    x+=h\n",
    "    r=rk4(x,h,r,n)\n",
    "print('Max End:',x,r[0])\n",
    "\n",
    "\n",
    "r=[0.,0.]\n",
    "N=20\n",
    "\n",
    "for i in range(N):                               #Here I begin bisection\n",
    "    x=0.\n",
    "    dy_i=(dy_min+dy_max)/2.\n",
    "    r=[0.,dy_i]\n",
    "    while (1.-x>2*h):                           #Note that I don't save the data as we are only\n",
    "        x+=h                                    # examining the final y value.\n",
    "        r=rk4(x,h,r,n)\n",
    "    print('Bisection #',i,': ',x,r[0])\n",
    "    if(r[0]==1.):                               #If we have reached machine precision, stop.\n",
    "        break\n",
    "    if (r[0]>1.):\n",
    "        dy_max=dy_i\n",
    "    else:\n",
    "        dy_min=dy_i\n",
    "\n",
    "xr=[]\n",
    "yr=[]\n",
    "x=0.\n",
    "r=[0.,dy_i]\n",
    "while (1.-x>2*h):                              #Integrate for the ideal initial y' value\n",
    "    xr=np.append(xr,x)\n",
    "    yr=np.append(yr,r[0])\n",
    "    x+=h\n",
    "    r=rk4(x,h,r,n)\n",
    "print('Final End:',x,r[0])\n",
    "\n",
    "\n",
    "\n",
    "\n",
    "y_x1=1+xr*0\n",
    "\n",
    "plt.axis('scaled')\n",
    "plt.axes(xlim=[0.,1.1],ylim=[-1.,1.5])\n",
    "plt.plot(xr,yr)\n",
    "plt.plot(xr,y_x1)\n",
    "plt.plot(xr_min,yr_min,'b--')\n",
    "plt.plot(xr_max,yr_max,'b--')\n",
    "plt.title('dY=%f' %dy_i)\n",
    "plt.show()"
   ]
  },
  {
   "cell_type": "markdown",
   "id": "overall-tower",
   "metadata": {},
   "source": [
    "This graph is almost identical to the graph given in the HW question. One thing worthy of noting is that my accuracy here is actually limited by ending the approximation short of x=1. Even increasing the bisection iterations to 50, the ideal $y'$ does not change. Making h smaller, or stopping the integration closer to x=1, causes $y'$ to approach $y'=1.875$."
   ]
  },
  {
   "cell_type": "markdown",
   "id": "dynamic-discretion",
   "metadata": {},
   "source": [
    "## Part 2:"
   ]
  },
  {
   "cell_type": "markdown",
   "id": "dynamic-intention",
   "metadata": {},
   "source": [
    "Use Forward and backward Euler methods to solve a nuclear decay equation $\\frac{dy}{dt}=-100y$"
   ]
  },
  {
   "cell_type": "markdown",
   "id": "nasty-investigator",
   "metadata": {},
   "source": [
    "Try dt=1.e-4,1.e-3,1.e-2,1.e-1,1. and plot the results using the same method in the same plot."
   ]
  },
  {
   "cell_type": "markdown",
   "id": "palestinian-skiing",
   "metadata": {},
   "source": [
    "##### Solution:"
   ]
  },
  {
   "cell_type": "markdown",
   "id": "underlying-verse",
   "metadata": {},
   "source": [
    "Now, I may be missing something obvious, but I believe I need 2 y-values to do either Euler method. Since I am not given this, I will assume $y_0=y(0)=1$ and find $y(t=dt)$ using the analytic solution to the ODE: $y(t)=y_0e^{-100t}$"
   ]
  },
  {
   "cell_type": "code",
   "execution_count": 56,
   "id": "reduced-combination",
   "metadata": {},
   "outputs": [
    {
     "name": "stdout",
     "output_type": "stream",
     "text": [
      "1.0\n",
      "0.1\n",
      "Done!\n"
     ]
    }
   ],
   "source": [
    "import numpy as np\n",
    "import matplotlib.pyplot as plt\n",
    "\n",
    "tf=10.\n",
    "\n",
    "def dy(y):                  #Our ODE\n",
    "    return -100*y\n",
    "\n",
    "def forw(y0,y1,h):          #Forward Euler\n",
    "    y1=y0+h*dy(y0)\n",
    "    return y1\n",
    "\n",
    "\n",
    "def back(y0,y1,h):         #Backward Euler\n",
    "    y1=y0+h*dy(y1)       #ynp1=yn/(1+100*dt)ynp1\n",
    "    return y1\n",
    "\n",
    "x,yf,yb=[],[],[]\n",
    "\n",
    "for i in range(2):         #Iterating over the different dt's\n",
    "    t=0.\n",
    "    dt=1.*10**(-1*i)\n",
    "    y0f=1.                       #Define the temporary, initial y\n",
    "    y0b=1.\n",
    "    y1f=y0f*np.exp(-100*dt)      #Define the temporary, y_n\n",
    "    y1b=y0b*np.exp(-100*dt)\n",
    "    yf=np.append(yf,y0)          #Store in an array\n",
    "    yb=np.append(yb,y0)\n",
    "    x=np.append(x,t)             #Store x variable\n",
    "    print(dt)\n",
    "\n",
    "    while (t<tf):\n",
    "        if (t+dt>tf):\n",
    "            dt=tf-t\n",
    "        yf=np.append(yf,y1f)\n",
    "        yb=np.append(yb,y1b)\n",
    "        yT=forw(y0f,y1f,dt)      #Temporary y_n+1\n",
    "        y0f=y1f                  #Change y_n-1 to y_n\n",
    "        y1f=yT                   #Change y_n to y_n+1\n",
    "        yT=back(y0b,y1b,dt)      #Same but for backward\n",
    "        y0b=y1b\n",
    "        y1b=yT\n",
    "        t+=dt                    #Update t\n",
    "        x=np.append(x,t)         #Store x\n",
    "print('Done!')"
   ]
  },
  {
   "cell_type": "code",
   "execution_count": 57,
   "id": "olive-toddler",
   "metadata": {},
   "outputs": [
    {
     "data": {
      "image/png": "[encoded data removed]",
      "text/plain": [
       "<Figure size 432x288 with 1 Axes>"
      ]
     },
     "metadata": {
      "needs_background": "light"
     },
     "output_type": "display_data"
    },
    {
     "data": {
      "image/png": "[encoded data removed]",
      "text/plain": [
       "<Figure size 432x288 with 1 Axes>"
      ]
     },
     "metadata": {
      "needs_background": "light"
     },
     "output_type": "display_data"
    }
   ],
   "source": [
    "plt.scatter(x,yf)               #Fail to plot a meaningful graph using log-scale and linear scale\n",
    "plt.title('Forward Euler')      #I used scatter plot so that I wouldn't need to create and store 10 different arrays\n",
    "plt.yscale('log')               # for the 5 different dt's and the 2 different methods. (i.e., just put all the data\n",
    "plt.show()                      # into one big, unordered array instread of 10 ordered arrays)\n",
    "\n",
    "plt.scatter(x,yb)\n",
    "plt.title('Backward Euler')\n",
    "plt.yscale('log')\n",
    "plt.show()"
   ]
  },
  {
   "cell_type": "code",
   "execution_count": 58,
   "id": "threatened-intelligence",
   "metadata": {},
   "outputs": [
    {
     "data": {
      "image/png": "[encoded data removed]",
      "text/plain": [
       "<Figure size 432x288 with 1 Axes>"
      ]
     },
     "metadata": {
      "needs_background": "light"
     },
     "output_type": "display_data"
    },
    {
     "data": {
      "image/png": "[encoded data removed]",
      "text/plain": [
       "<Figure size 432x288 with 1 Axes>"
      ]
     },
     "metadata": {
      "needs_background": "light"
     },
     "output_type": "display_data"
    }
   ],
   "source": [
    "plt.scatter(x,yf)\n",
    "plt.title('Forward Euler')\n",
    "plt.show()\n",
    "\n",
    "plt.scatter(x,yb)\n",
    "plt.title('Backward Euler')\n",
    "plt.show()"
   ]
  },
  {
   "cell_type": "code",
   "execution_count": null,
   "id": "transsexual-hearing",
   "metadata": {},
   "outputs": [],
   "source": []
  }
 ],
 "metadata": {
  "kernelspec": {
   "display_name": "Python 3",
   "language": "python",
   "name": "python3"
  },
  "language_info": {
   "codemirror_mode": {
    "name": "ipython",
    "version": 3
   },
   "file_extension": ".py",
   "mimetype": "text/x-python",
   "name": "python",
   "nbconvert_exporter": "python",
   "pygments_lexer": "ipython3",
   "version": "3.6.9"
  }
 },
 "nbformat": 4,
 "nbformat_minor": 5
}
