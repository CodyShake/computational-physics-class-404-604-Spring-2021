{
 "cells": [
  {
   "cell_type": "code",
   "execution_count": 3,
   "id": "fallen-topic",
   "metadata": {},
   "outputs": [
    {
     "data": {
      "text/html": [
       "<div id=\"glowscript\" class=\"glowscript\"></div>"
      ],
      "text/plain": [
       "<IPython.core.display.HTML object>"
      ]
     },
     "metadata": {},
     "output_type": "display_data"
    },
    {
     "data": {
      "application/javascript": [
       "if (typeof Jupyter !== \"undefined\") { window.__context = { glowscript_container: $(\"#glowscript\").removeAttr(\"id\")};}else{ element.textContent = ' ';}"
      ],
      "text/plain": [
       "<IPython.core.display.Javascript object>"
      ]
     },
     "metadata": {},
     "output_type": "display_data"
    }
   ],
   "source": [
    "from vpython import *\n",
    "import numpy as np\n",
    "scene2 = canvas(title='Hurricanes Through Time (left-to-right)',\n",
    "     width=600, height=300,\n",
    "     center=vector(0,1,2), forward=vector(0,-0.5,-1), background=color.black) # set the camera\n",
    "# y is pointing up, z is pointing inwards, for the ring, axis is the direction it is pointing\n",
    "\n",
    "tilt=0.\n",
    "\n",
    "pol=cylinder(pos = vector(-10,-5*np.cos((tilt/180)*np.pi),-5*np.sin((tilt/180)*np.pi)),\n",
    "             axis= vector(0,10*np.cos((tilt/180)*np.pi),10*np.sin((tilt/180)*np.pi)), radius=0.3, color=color.red)\n",
    "sub=cylinder(pos = vector(-10,-5*np.sin((tilt/180)*np.pi),-5*np.cos((tilt/180)*np.pi)),\n",
    "             axis= vector(0,10*np.sin((tilt/180)*np.pi),10*np.cos((tilt/180)*np.pi)), radius=0.1, color=color.black)\n",
    "pln=sphere(pos = vector(-10,0,0), up=vector(0,np.cos((tilt/180)*np.pi),np.sin((tilt/180)*np.pi)),\n",
    "           axis= vector(1,0,0), radius=4, texture='hurricane1.jpg' )\n",
    "\n",
    "pol3=cylinder(pos = vector(0,-5*np.cos((tilt/180)*np.pi),-5*np.sin((tilt/180)*np.pi)),\n",
    "             axis= vector(0,10*np.cos((tilt/180)*np.pi),10*np.sin((tilt/180)*np.pi)), radius=0.3, color=color.red)\n",
    "sub3=cylinder(pos = vector(0,-5*np.sin((tilt/180)*np.pi),-5*np.cos((tilt/180)*np.pi)),\n",
    "             axis= vector(0,10*np.sin((tilt/180)*np.pi),10*np.cos((tilt/180)*np.pi)), radius=0.1, color=color.black)\n",
    "pln3=sphere(pos = vector(0,0,0), up=vector(0,np.cos((tilt/180)*np.pi),np.sin((tilt/180)*np.pi)),\n",
    "           axis= vector(1,0,0), radius=4, texture='hurricane2.jpg' )\n",
    "\n",
    "pol2=cylinder(pos = vector(10,-5*np.cos((tilt/180)*np.pi),-5*np.sin((tilt/180)*np.pi)),\n",
    "             axis= vector(0,10*np.cos((tilt/180)*np.pi),10*np.sin((tilt/180)*np.pi)), radius=0.3, color=color.red)\n",
    "sub2=cylinder(pos = vector(10,-5*np.sin((tilt/180)*np.pi),-5*np.cos((tilt/180)*np.pi)),\n",
    "             axis= vector(0,10*np.sin((tilt/180)*np.pi),10*np.cos((tilt/180)*np.pi)), radius=0.1, color=color.black)\n",
    "pln2=sphere(pos = vector(10,0,0), up=vector(0,np.cos((tilt/180)*np.pi),np.sin((tilt/180)*np.pi)),\n",
    "           axis= vector(1,0,0), radius=4, texture='hurricane3.jpg' )\n",
    "\n"
   ]
  },
  {
   "cell_type": "code",
   "execution_count": null,
   "id": "unlike-senate",
   "metadata": {},
   "outputs": [],
   "source": []
  }
 ],
 "metadata": {
  "kernelspec": {
   "display_name": "Python 3",
   "language": "python",
   "name": "python3"
  },
  "language_info": {
   "codemirror_mode": {
    "name": "ipython",
    "version": 3
   },
   "file_extension": ".py",
   "mimetype": "text/x-python",
   "name": "python",
   "nbconvert_exporter": "python",
   "pygments_lexer": "ipython3",
   "version": "3.6.9"
  }
 },
 "nbformat": 4,
 "nbformat_minor": 5
}
