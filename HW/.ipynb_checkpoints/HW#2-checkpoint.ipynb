{
 "cells": [
  {
   "cell_type": "markdown",
   "id": "stylish-compromise",
   "metadata": {},
   "source": [
    "## Assignment: Write your own Vpython program to generate a simple animation."
   ]
  },
  {
   "cell_type": "markdown",
   "id": "allied-bidding",
   "metadata": {},
   "source": [
    "### Description:"
   ]
  },
  {
   "cell_type": "markdown",
   "id": "weighted-bridal",
   "metadata": {},
   "source": [
    "I tried different settings to animate a precessing planet. I accidently realized there are two types of precession. I'm not entirely sure, but I believe the following would be the physical difference. Both would be caused by a planet's oblateness."
   ]
  },
  {
   "cell_type": "markdown",
   "id": "editorial-recycling",
   "metadata": {},
   "source": [
    "$\\textbf{Tidally-Locked Precession (Left):}$ I believe the Tidally-Locked precession would occur depending on how irregularly the planet's mass was distributed with respect to longitude. On Earth, plate tectonics create irregularities (obviously, because we have continents). So, if the Earth had a slow enough rotation, and it was close enough to an M-dwarf, this would occur."
   ]
  },
  {
   "cell_type": "markdown",
   "id": "animated-retail",
   "metadata": {},
   "source": [
    "$\\textbf{\"Free\" Precession (Right):}$ The Free precession would occur if the planet was uniform in mass distribution along longitude. This is Earth's current state of precession because the Earth is rotating fast enough and it is far enough away from the Sun. If it were ONLY the Earth and Sun, the Earth would slow to become tidally-locked. However, I'm not sure if this is possible with the other planets interfering. It is especially impossible if Earth keeps its Moon as the Moon dominates Earth's tidal forces."
   ]
  },
  {
   "cell_type": "code",
   "execution_count": 3,
   "id": "increasing-forty",
   "metadata": {},
   "outputs": [
    {
     "data": {
      "text/html": [
       "<div id=\"glowscript\" class=\"glowscript\"></div>"
      ],
      "text/plain": [
       "<IPython.core.display.HTML object>"
      ]
     },
     "metadata": {},
     "output_type": "display_data"
    },
    {
     "data": {
      "application/javascript": [
       "if (typeof Jupyter !== \"undefined\") { window.__context = { glowscript_container: $(\"#glowscript\").removeAttr(\"id\")};}else{ element.textContent = ' ';}"
      ],
      "text/plain": [
       "<IPython.core.display.Javascript object>"
      ]
     },
     "metadata": {},
     "output_type": "display_data"
    }
   ],
   "source": [
    "from vpython import *\n",
    "import numpy as np\n",
    "scene2 = canvas(title='Tidally-Locked Precession VS Free Precession',\n",
    "     width=600, height=300,\n",
    "     center=vector(0,1,2), forward=vector(0,-0.5,-1), background=color.black) # set the camera\n",
    "# y is pointing up, z is pointing inwards, for the ring, axis is the direction it is pointing\n",
    "pol=cylinder(pos = vector(-5,-5*np.cos((23/180)*np.pi),-5*np.sin((23/180)*np.pi)),\n",
    "             axis= vector(0,10*np.cos((23/180)*np.pi),10*np.sin((23/180)*np.pi)), radius=0.3, color=color.red)\n",
    "pln=sphere(pos = vector(-5,0,0), up=vector(0,np.cos((23/180)*np.pi),np.sin((23/180)*np.pi)),\n",
    "           axis= vector(1,0,0), radius=4, texture={'file':textures.earth} )\n",
    "\n",
    "pol2=cylinder(pos = vector(5,-5*np.cos((23/180)*np.pi),-5*np.sin((23/180)*np.pi)),\n",
    "             axis= vector(0,10*np.cos((23/180)*np.pi),10*np.sin((23/180)*np.pi)), radius=0.3, color=color.red)\n",
    "pln2=sphere(pos = vector(5,0,0), up=vector(0,np.cos((23/180)*np.pi),np.sin((23/180)*np.pi)),\n",
    "           axis= vector(1,0,0), radius=4, texture={'file':textures.earth} )\n",
    "\n",
    "\n",
    "\n",
    "for i in range(200):\n",
    "    rate(10)   # slow down the animation\n",
    "    pol.axis = vector(10*np.cos((i/10)*np.pi)*np.sin((23/180)*np.pi),10*np.cos((23/180)*np.pi),\n",
    "                      10*np.sin((i/10)*np.pi)*np.sin((23/180)*np.pi))\n",
    "    pol.pos  = vector(-5*np.cos((i/10)*np.pi)*np.sin((23/180)*np.pi)-5,-5*np.cos((23/180)*np.pi),\n",
    "                      -5*np.sin((i/10)*np.pi)*np.sin((23/180)*np.pi))\n",
    "    pln.axis= vector(1,0,0)\n",
    "    pln.up = pol.axis\n",
    "    \n",
    "    pol2.axis = vector(10*np.cos((i/10)*np.pi)*np.sin((23/180)*np.pi),10*np.cos((23/180)*np.pi),\n",
    "                      10*np.sin((i/10)*np.pi)*np.sin((23/180)*np.pi))\n",
    "    pol2.pos  = vector(-5*np.cos((i/10)*np.pi)*np.sin((23/180)*np.pi)+5,-5*np.cos((23/180)*np.pi),\n",
    "                      -5*np.sin((i/10)*np.pi)*np.sin((23/180)*np.pi))\n",
    "    pln2.up = pol2.axis"
   ]
  }
 ],
 "metadata": {
  "kernelspec": {
   "display_name": "Python 3",
   "language": "python",
   "name": "python3"
  },
  "language_info": {
   "codemirror_mode": {
    "name": "ipython",
    "version": 3
   },
   "file_extension": ".py",
   "mimetype": "text/x-python",
   "name": "python",
   "nbconvert_exporter": "python",
   "pygments_lexer": "ipython3",
   "version": "3.6.9"
  }
 },
 "nbformat": 4,
 "nbformat_minor": 5
}
