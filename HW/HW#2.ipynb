{
 "cells": [
  {
   "cell_type": "markdown",
   "id": "stylish-compromise",
   "metadata": {},
   "source": [
    "## Phys604 - Homework 2"
   ]
  },
  {
   "cell_type": "markdown",
   "id": "generous-thinking",
   "metadata": {},
   "source": [
    "### 1)"
   ]
  },
  {
   "cell_type": "markdown",
   "id": "returning-exposure",
   "metadata": {},
   "source": [
    "Plot $f(x)=\\pi/2+2(sin(x)+sin(3x)/3+sin(5x)/5+...+sin(nx)/n)$"
   ]
  },
  {
   "cell_type": "markdown",
   "id": "increasing-hungarian",
   "metadata": {},
   "source": [
    "From $\\pi$ to $-\\pi$ with $n=11,21,31$."
   ]
  },
  {
   "cell_type": "code",
   "execution_count": 1,
   "id": "expired-radiation",
   "metadata": {},
   "outputs": [
    {
     "name": "stderr",
     "output_type": "stream",
     "text": [
      "In /home/cjs16/.local/lib/python3.6/site-packages/matplotlib/mpl-data/stylelib/_classic_test.mplstyle: \n",
      "The text.latex.preview rcparam was deprecated in Matplotlib 3.3 and will be removed two minor releases later.\n",
      "In /home/cjs16/.local/lib/python3.6/site-packages/matplotlib/mpl-data/stylelib/_classic_test.mplstyle: \n",
      "The mathtext.fallback_to_cm rcparam was deprecated in Matplotlib 3.3 and will be removed two minor releases later.\n",
      "In /home/cjs16/.local/lib/python3.6/site-packages/matplotlib/mpl-data/stylelib/_classic_test.mplstyle: Support for setting the 'mathtext.fallback_to_cm' rcParam is deprecated since 3.3 and will be removed two minor releases later; use 'mathtext.fallback : 'cm' instead.\n",
      "In /home/cjs16/.local/lib/python3.6/site-packages/matplotlib/mpl-data/stylelib/_classic_test.mplstyle: \n",
      "The validate_bool_maybe_none function was deprecated in Matplotlib 3.3 and will be removed two minor releases later.\n",
      "In /home/cjs16/.local/lib/python3.6/site-packages/matplotlib/mpl-data/stylelib/_classic_test.mplstyle: \n",
      "The savefig.jpeg_quality rcparam was deprecated in Matplotlib 3.3 and will be removed two minor releases later.\n",
      "In /home/cjs16/.local/lib/python3.6/site-packages/matplotlib/mpl-data/stylelib/_classic_test.mplstyle: \n",
      "The keymap.all_axes rcparam was deprecated in Matplotlib 3.3 and will be removed two minor releases later.\n",
      "In /home/cjs16/.local/lib/python3.6/site-packages/matplotlib/mpl-data/stylelib/_classic_test.mplstyle: \n",
      "The animation.avconv_path rcparam was deprecated in Matplotlib 3.3 and will be removed two minor releases later.\n",
      "In /home/cjs16/.local/lib/python3.6/site-packages/matplotlib/mpl-data/stylelib/_classic_test.mplstyle: \n",
      "The animation.avconv_args rcparam was deprecated in Matplotlib 3.3 and will be removed two minor releases later.\n"
     ]
    },
    {
     "name": "stdout",
     "output_type": "stream",
     "text": [
      "--- 0.04798626899719238 seconds ---\n"
     ]
    },
    {
     "data": {
      "image/png": "[encoded data removed]",
      "text/plain": [
       "<Figure size 432x288 with 1 Axes>"
      ]
     },
     "metadata": {
      "needs_background": "light"
     },
     "output_type": "display_data"
    }
   ],
   "source": [
    "import numpy as np\n",
    "import matplotlib.pyplot as plt\n",
    "import time\n",
    "\n",
    "x=np.arange(-3.14,3.14,0.01)\n",
    "\n",
    "def func(x,n):\n",
    "    func= np.pi/2\n",
    "    n=(n-1)/2\n",
    "    n=int(n)\n",
    "    \n",
    "    for i in range(0,n+1):\n",
    "        func += 2*np.sin((2*i+1)*x)/(2*i+1)\n",
    "    return func\n",
    "\n",
    "start_time = time.time()\n",
    "\n",
    "y=func(x,11)\n",
    "y1=func(x,21)\n",
    "y2=func(x,31)\n",
    "\n",
    "plt.plot(x,y)\n",
    "plt.plot(x,y1)\n",
    "plt.plot(x,y2)\n",
    "\n",
    "print(\"--- %s seconds ---\" % (time.time() - start_time))"
   ]
  },
  {
   "cell_type": "markdown",
   "id": "therapeutic-praise",
   "metadata": {},
   "source": [
    "### 2) Create a simple animation"
   ]
  },
  {
   "cell_type": "markdown",
   "id": "allied-bidding",
   "metadata": {},
   "source": [
    "### Description:"
   ]
  },
  {
   "cell_type": "markdown",
   "id": "weighted-bridal",
   "metadata": {},
   "source": [
    "I tried different settings to animate a precessing planet. I accidently realized there are two types of precession. I'm not entirely sure, but I believe the following would be the physical difference. Both would be caused by a planet's oblateness."
   ]
  },
  {
   "cell_type": "markdown",
   "id": "editorial-recycling",
   "metadata": {},
   "source": [
    "$\\textbf{Tidally-Locked Precession (Left):}$ I believe the Tidally-Locked precession would occur depending on how irregularly the planet's mass was distributed with respect to longitude. On Earth, plate tectonics create irregularities (obviously, because we have continents). So, if the Earth had a slow enough rotation, and it was close enough to an M-dwarf, this would occur."
   ]
  },
  {
   "cell_type": "markdown",
   "id": "animated-retail",
   "metadata": {},
   "source": [
    "$\\textbf{\"Free\" Precession (Right):}$ The Free precession would occur if the planet was uniform in mass distribution along longitude. This is Earth's current state of precession because the Earth is rotating fast enough and it is far enough away from the Sun. If it were ONLY the Earth and Sun, the Earth would slow to become tidally-locked. However, I'm not sure if this is possible with the other planets interfering. It is especially impossible if Earth keeps its Moon as the Moon dominates Earth's tidal forces."
   ]
  },
  {
   "cell_type": "code",
   "execution_count": null,
   "id": "increasing-forty",
   "metadata": {},
   "outputs": [],
   "source": [
    "from vpython import *\n",
    "import numpy as np\n",
    "scene2 = canvas(title='Tidally-Locked Precession VS Free Precession',\n",
    "     width=600, height=300,\n",
    "     center=vector(0,1,2), forward=vector(0,-0.5,-1), background=color.black) # set the camera\n",
    "# y is pointing up, z is pointing inwards, for the ring, axis is the direction it is pointing\n",
    "pol=cylinder(pos = vector(-5,-5*np.cos((23/180)*np.pi),-5*np.sin((23/180)*np.pi)),\n",
    "             axis= vector(0,10*np.cos((23/180)*np.pi),10*np.sin((23/180)*np.pi)), radius=0.3, color=color.red)\n",
    "pln=sphere(pos = vector(-5,0,0), up=vector(0,np.cos((23/180)*np.pi),np.sin((23/180)*np.pi)),\n",
    "           axis= vector(1,0,0), radius=4, texture={'file':textures.earth} )\n",
    "\n",
    "pol2=cylinder(pos = vector(5,-5*np.cos((23/180)*np.pi),-5*np.sin((23/180)*np.pi)),\n",
    "             axis= vector(0,10*np.cos((23/180)*np.pi),10*np.sin((23/180)*np.pi)), radius=0.3, color=color.red)\n",
    "pln2=sphere(pos = vector(5,0,0), up=vector(0,np.cos((23/180)*np.pi),np.sin((23/180)*np.pi)),\n",
    "           axis= vector(1,0,0), radius=4, texture={'file':textures.earth} )\n",
    "\n",
    "\n",
    "\n",
    "for i in range(200):\n",
    "    rate(10)   # slow down the animation\n",
    "    pol.axis = vector(10*np.cos((i/10)*np.pi)*np.sin((23/180)*np.pi),10*np.cos((23/180)*np.pi),\n",
    "                      10*np.sin((i/10)*np.pi)*np.sin((23/180)*np.pi))\n",
    "    pol.pos  = vector(-5*np.cos((i/10)*np.pi)*np.sin((23/180)*np.pi)-5,-5*np.cos((23/180)*np.pi),\n",
    "                      -5*np.sin((i/10)*np.pi)*np.sin((23/180)*np.pi))\n",
    "    pln.axis= vector(1,0,0)\n",
    "    pln.up = pol.axis\n",
    "    \n",
    "    pol2.axis = vector(10*np.cos((i/10)*np.pi)*np.sin((23/180)*np.pi),10*np.cos((23/180)*np.pi),\n",
    "                      10*np.sin((i/10)*np.pi)*np.sin((23/180)*np.pi))\n",
    "    pol2.pos  = vector(-5*np.cos((i/10)*np.pi)*np.sin((23/180)*np.pi)+5,-5*np.cos((23/180)*np.pi),\n",
    "                      -5*np.sin((i/10)*np.pi)*np.sin((23/180)*np.pi))\n",
    "    pln2.up = pol2.axis"
   ]
  },
  {
   "cell_type": "code",
   "execution_count": null,
   "id": "underlying-diana",
   "metadata": {},
   "outputs": [],
   "source": []
  }
 ],
 "metadata": {
  "kernelspec": {
   "display_name": "Python 3",
   "language": "python",
   "name": "python3"
  },
  "language_info": {
   "codemirror_mode": {
    "name": "ipython",
    "version": 3
   },
   "file_extension": ".py",
   "mimetype": "text/x-python",
   "name": "python",
   "nbconvert_exporter": "python",
   "pygments_lexer": "ipython3",
   "version": "3.6.9"
  }
 },
 "nbformat": 4,
 "nbformat_minor": 5
}
